{
    "cells": [
        {
            "metadata": {
                "collapsed": true
            },
            "cell_type": "markdown",
            "source": "# Capstone Project - The Battle of the Neighborhoods"
        },
        {
            "metadata": {},
            "cell_type": "markdown",
            "source": "### Applied Data Science Capstone by IBM/Coursera"
        },
        {
            "metadata": {},
            "cell_type": "markdown",
            "source": "## Introduction"
        },
        {
            "metadata": {},
            "cell_type": "markdown",
            "source": "In this project we are going to look for an optimal neighbourhood to rise have and rise a child. Specifically, this report an provide a reference for new parents who are interested in moving to a neighborhood in Toronto that has a good infrastructure that helps with the rising and development of a child.\n\nToronto is the capital of Ontario, the largest city in Canada, and the city that attracts the most visitors in the entire country. What make Toronto the best city in Canada it's the diverse neighborhoods located throughout the city, each a micro cultural hub with unique restaurants, shops, and parks.\n\nIn this report, we will focus on all areas on Toronto. Among all the neighborhoods in Torontos, we will analyze data, build indicators and finally identify the best neighborhoods to raise a child. Then, we will use the clustering model to find similar areas in the city, considering the demographic data of each neighborhood and region. The preferred area should contain as many facilities as possible.\n\nWe will use data science tools to fetch the raw data, visualize it then generate a few most promising areas based on above criteria. We will use the techniques and tools learned throughout the course to capture, clean, format and build indicators and visualize data in order to classify the city's neighborhoods. During the process we will explain the findings, identify advantages and disadvantages so that new parents can choose a neighborhood to raise their children based on data."
        },
        {
            "metadata": {},
            "cell_type": "markdown",
            "source": "## Data"
        },
        {
            "metadata": {},
            "cell_type": "markdown",
            "source": "Given our problem, factors that may impact our decision are:\n\n * Demographic information, e.g. population, density, education, age, income\n * Number of existing schools in the neighborhood and nearby\n * Number of existing parks in the neighborhood and nearby\n * Number of existing playgrounds in the neighborhood and nearby\n * Number of existing EarlyON Child and Family Centres in the neighborhood and nearby\n * Number of existing Licensed Child Care Centres in the neighborhood and nearby\n * Crime rate in the neighborhood and nearby\n\nIn this project, we will fetch or extract data from the following data sources:\n * Toronto census information of 2016 year\n * Schools, parks and playgrounds data in every neighborhood will be obtained using Foursquare API\n * EarlyON Child and Family Centres, Licensed Child Care Centres and Crime rate is obtained from city's Open Data portal\n * Toronto neighborhoods shapefile is obtained from city's Open Data portal"
        },
        {
            "metadata": {},
            "cell_type": "code",
            "source": "",
            "execution_count": null,
            "outputs": []
        }
    ],
    "metadata": {
        "kernelspec": {
            "name": "python3",
            "display_name": "Python 3.7",
            "language": "python"
        },
        "language_info": {
            "name": "python",
            "version": "3.7.9",
            "mimetype": "text/x-python",
            "codemirror_mode": {
                "name": "ipython",
                "version": 3
            },
            "pygments_lexer": "ipython3",
            "nbconvert_exporter": "python",
            "file_extension": ".py"
        }
    },
    "nbformat": 4,
    "nbformat_minor": 1
}