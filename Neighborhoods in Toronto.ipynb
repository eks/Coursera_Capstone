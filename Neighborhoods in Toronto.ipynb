{
    "cells": [
        {
            "cell_type": "markdown",
            "metadata": {
                "collapsed": true
            },
            "source": "# Segmenting and Clustering Neighborhoods in Toronto"
        },
        {
            "cell_type": "markdown",
            "metadata": {},
            "source": "### Importing all necessary libs"
        },
        {
            "cell_type": "code",
            "execution_count": 1,
            "metadata": {},
            "outputs": [
                {
                    "name": "stdout",
                    "output_type": "stream",
                    "text": "Requirement already satisfied: geopy in /opt/conda/envs/Python-3.7-main/lib/python3.7/site-packages (2.0.0)\nRequirement already satisfied: geographiclib<2,>=1.49 in /opt/conda/envs/Python-3.7-main/lib/python3.7/site-packages (from geopy) (1.50)\nRequirement already satisfied: folium in /opt/conda/envs/Python-3.7-main/lib/python3.7/site-packages (0.12.1)\nRequirement already satisfied: requests in /opt/conda/envs/Python-3.7-main/lib/python3.7/site-packages (from folium) (2.24.0)\nRequirement already satisfied: numpy in /opt/conda/envs/Python-3.7-main/lib/python3.7/site-packages (from folium) (1.18.5)\nRequirement already satisfied: branca>=0.3.0 in /opt/conda/envs/Python-3.7-main/lib/python3.7/site-packages (from folium) (0.4.2)\nRequirement already satisfied: jinja2>=2.9 in /opt/conda/envs/Python-3.7-main/lib/python3.7/site-packages (from folium) (2.11.2)\nRequirement already satisfied: certifi>=2017.4.17 in /opt/conda/envs/Python-3.7-main/lib/python3.7/site-packages (from requests->folium) (2020.12.5)\nRequirement already satisfied: chardet<4,>=3.0.2 in /opt/conda/envs/Python-3.7-main/lib/python3.7/site-packages (from requests->folium) (3.0.4)\nRequirement already satisfied: idna<3,>=2.5 in /opt/conda/envs/Python-3.7-main/lib/python3.7/site-packages (from requests->folium) (2.9)\nRequirement already satisfied: urllib3!=1.25.0,!=1.25.1,<1.26,>=1.21.1 in /opt/conda/envs/Python-3.7-main/lib/python3.7/site-packages (from requests->folium) (1.25.9)\nRequirement already satisfied: MarkupSafe>=0.23 in /opt/conda/envs/Python-3.7-main/lib/python3.7/site-packages (from jinja2>=2.9->folium) (1.1.1)\nRequirement already satisfied: lxml in /opt/conda/envs/Python-3.7-main/lib/python3.7/site-packages (4.5.1)\nRequirement already satisfied: html5lib in /opt/conda/envs/Python-3.7-main/lib/python3.7/site-packages (1.1)\nRequirement already satisfied: beautifulsoup4 in /opt/conda/envs/Python-3.7-main/lib/python3.7/site-packages (4.9.1)\nRequirement already satisfied: webencodings in /opt/conda/envs/Python-3.7-main/lib/python3.7/site-packages (from html5lib) (0.5.1)\nRequirement already satisfied: six>=1.9 in /opt/conda/envs/Python-3.7-main/lib/python3.7/site-packages (from html5lib) (1.15.0)\nRequirement already satisfied: soupsieve>1.2 in /opt/conda/envs/Python-3.7-main/lib/python3.7/site-packages (from beautifulsoup4) (2.0.1)\n"
                }
            ],
            "source": "import numpy as np\nimport pandas as pd\npd.set_option('display.max_columns', None)\npd.set_option('display.max_rows', None)\n\nimport json\n\n!pip install geopy\nfrom geopy.geocoders import Nominatim\n\nimport requests\nfrom pandas.io.json import json_normalize\n\nimport matplotlib.cm as cm\nimport matplotlib.colors as colors\n\nfrom sklearn.cluster import KMeans\n\n!pip install folium\nimport folium\n\n!pip install lxml html5lib beautifulsoup4"
        },
        {
            "cell_type": "markdown",
            "metadata": {},
            "source": "## Part1"
        },
        {
            "cell_type": "code",
            "execution_count": 2,
            "metadata": {},
            "outputs": [
                {
                    "name": "stdout",
                    "output_type": "stream",
                    "text": "This DataFrame contains 3 tables\nFisrt Table\n  Postal Code           Borough              Neighbourhood\n0         M1A      Not assigned               Not assigned\n1         M2A      Not assigned               Not assigned\n2         M3A        North York                  Parkwoods\n3         M4A        North York           Victoria Village\n4         M5A  Downtown Toronto  Regent Park, Harbourfront\n======================================\nSecond Table\n                                                  0   \\\n0                                                NaN   \n1  NL NS PE NB QC ON MB SK AB BC NU/NT YT A B C E...   \n2                                                 NL   \n3                                                  A   \n\n                                                  1   \\\n0                              Canadian postal codes   \n1  NL NS PE NB QC ON MB SK AB BC NU/NT YT A B C E...   \n2                                                 NS   \n3                                                  B   \n\n                                                  2    3    4    5    6    7   \\\n0                                                NaN  NaN  NaN  NaN  NaN  NaN   \n1  NL NS PE NB QC ON MB SK AB BC NU/NT YT A B C E...  NaN  NaN  NaN  NaN  NaN   \n2                                                 PE   NB   QC   QC   QC   ON   \n3                                                  C    E    G    H    J    K   \n\n    8    9    10   11   12   13   14   15     16   17  \n0  NaN  NaN  NaN  NaN  NaN  NaN  NaN  NaN    NaN  NaN  \n1  NaN  NaN  NaN  NaN  NaN  NaN  NaN  NaN    NaN  NaN  \n2   ON   ON   ON   ON   MB   SK   AB   BC  NU/NT   YT  \n3    L    M    N    P    R    S    T    V      X    Y  \n======================================\nThird Table\n   0   1   2   3   4   5   6   7   8   9   10  11  12  13  14  15     16  17\n0  NL  NS  PE  NB  QC  QC  QC  ON  ON  ON  ON  ON  MB  SK  AB  BC  NU/NT  YT\n1   A   B   C   E   G   H   J   K   L   M   N   P   R   S   T   V      X   Y\n======================================\n"
                }
            ],
            "source": "# Fetch HTML data and assign to DataFrame\nurl = 'https://en.wikipedia.org/wiki/List_of_postal_codes_of_Canada:_M'\ntables_list = pd.read_html(url)\n\n# Investigate what was retrived from url\nx='This DataFrame contains {} tables'.format(len(tables_list))\nprint(x)\n\nprint(\"Fisrt Table\")\nprint(tables_list[0].head())\nprint(\"======================================\")\n\nprint(\"Second Table\")\nprint(tables_list[1].head())\nprint(\"======================================\")\n\nprint(\"Third Table\")\nprint(tables_list[2].head())\nprint(\"======================================\")"
        },
        {
            "cell_type": "code",
            "execution_count": 21,
            "metadata": {},
            "outputs": [
                {
                    "data": {
                        "text/plain": "Borough\nCentral Toronto      9\nDowntown Toronto    19\nEast Toronto         5\nEast York            5\nEtobicoke           12\nMississauga          1\nNorth York          24\nNot assigned        77\nScarborough         17\nWest Toronto         6\nYork                 5\nName: Borough, dtype: int64"
                    },
                    "execution_count": 21,
                    "metadata": {},
                    "output_type": "execute_result"
                }
            ],
            "source": "# As we can see the url have 3 tables and the table we are interested in is the first one\n# Assign a DataFrame with the object of interest\nraw_df = tables_list[0]\nraw_df.head()\nraw_df.Borough.groupby(raw_df.Borough).count()"
        },
        {
            "cell_type": "code",
            "execution_count": 4,
            "metadata": {},
            "outputs": [
                {
                    "data": {
                        "text/html": "<div>\n<style scoped>\n    .dataframe tbody tr th:only-of-type {\n        vertical-align: middle;\n    }\n\n    .dataframe tbody tr th {\n        vertical-align: top;\n    }\n\n    .dataframe thead th {\n        text-align: right;\n    }\n</style>\n<table border=\"1\" class=\"dataframe\">\n  <thead>\n    <tr style=\"text-align: right;\">\n      <th></th>\n      <th>Postal Code</th>\n      <th>Borough</th>\n      <th>Neighbourhood</th>\n    </tr>\n  </thead>\n  <tbody>\n    <tr>\n      <th>0</th>\n      <td>M3A</td>\n      <td>North York</td>\n      <td>Parkwoods</td>\n    </tr>\n    <tr>\n      <th>1</th>\n      <td>M4A</td>\n      <td>North York</td>\n      <td>Victoria Village</td>\n    </tr>\n    <tr>\n      <th>2</th>\n      <td>M5A</td>\n      <td>Downtown Toronto</td>\n      <td>Regent Park, Harbourfront</td>\n    </tr>\n    <tr>\n      <th>3</th>\n      <td>M6A</td>\n      <td>North York</td>\n      <td>Lawrence Manor, Lawrence Heights</td>\n    </tr>\n    <tr>\n      <th>4</th>\n      <td>M7A</td>\n      <td>Downtown Toronto</td>\n      <td>Queen's Park, Ontario Provincial Government</td>\n    </tr>\n  </tbody>\n</table>\n</div>",
                        "text/plain": "  Postal Code           Borough                                Neighbourhood\n0         M3A        North York                                    Parkwoods\n1         M4A        North York                             Victoria Village\n2         M5A  Downtown Toronto                    Regent Park, Harbourfront\n3         M6A        North York             Lawrence Manor, Lawrence Heights\n4         M7A  Downtown Toronto  Queen's Park, Ontario Provincial Government"
                    },
                    "execution_count": 4,
                    "metadata": {},
                    "output_type": "execute_result"
                }
            ],
            "source": "# Cleaning the data\nborough_df = raw_df[raw_df.Borough != 'Not assigned'].reset_index(drop=True)\nborough_df.head()"
        },
        {
            "cell_type": "code",
            "execution_count": 22,
            "metadata": {},
            "outputs": [
                {
                    "data": {
                        "text/plain": "Borough\nCentral Toronto      9\nDowntown Toronto    19\nEast Toronto         5\nEast York            5\nEtobicoke           12\nMississauga          1\nNorth York          24\nScarborough         17\nWest Toronto         6\nYork                 5\nName: Borough, dtype: int64"
                    },
                    "execution_count": 22,
                    "metadata": {},
                    "output_type": "execute_result"
                }
            ],
            "source": "# Certify there are no 'Not assigned' in Borough column\nborough_df.Borough.groupby(borough_df.Borough).count()"
        },
        {
            "cell_type": "code",
            "execution_count": 23,
            "metadata": {},
            "outputs": [
                {
                    "data": {
                        "text/plain": "Neighbourhood\nAgincourt                                                                                                                                 1\nAlderwood, Long Branch                                                                                                                    1\nBathurst Manor, Wilson Heights, Downsview North                                                                                           1\nBayview Village                                                                                                                           1\nBedford Park, Lawrence Manor East                                                                                                         1\nBerczy Park                                                                                                                               1\nBirch Cliff, Cliffside West                                                                                                               1\nBrockton, Parkdale Village, Exhibition Place                                                                                              1\nBusiness reply mail Processing Centre, South Central Letter Processing Plant Toronto                                                      1\nCN Tower, King and Spadina, Railway Lands, Harbourfront West, Bathurst Quay, South Niagara, Island airport                                1\nCaledonia-Fairbanks                                                                                                                       1\nCanada Post Gateway Processing Centre                                                                                                     1\nCedarbrae                                                                                                                                 1\nCentral Bay Street                                                                                                                        1\nChristie                                                                                                                                  1\nChurch and Wellesley                                                                                                                      1\nClarks Corners, Tam O'Shanter, Sullivan                                                                                                   1\nCliffside, Cliffcrest, Scarborough Village West                                                                                           1\nCommerce Court, Victoria Hotel                                                                                                            1\nDavisville                                                                                                                                1\nDavisville North                                                                                                                          1\nDel Ray, Mount Dennis, Keelsdale and Silverthorn                                                                                          1\nDon Mills                                                                                                                                 2\nDorset Park, Wexford Heights, Scarborough Town Centre                                                                                     1\nDownsview                                                                                                                                 4\nDufferin, Dovercourt Village                                                                                                              1\nEast Toronto, Broadview North (Old East York)                                                                                             1\nEringate, Bloordale Gardens, Old Burnhamthorpe, Markland Wood                                                                             1\nFairview, Henry Farm, Oriole                                                                                                              1\nFirst Canadian Place, Underground city                                                                                                    1\nForest Hill North & West, Forest Hill Road Park                                                                                           1\nGarden District, Ryerson                                                                                                                  1\nGlencairn                                                                                                                                 1\nGolden Mile, Clairlea, Oakridge                                                                                                           1\nGuildwood, Morningside, West Hill                                                                                                         1\nHarbourfront East, Union Station, Toronto Islands                                                                                         1\nHigh Park, The Junction South                                                                                                             1\nHillcrest Village                                                                                                                         1\nHumber Summit                                                                                                                             1\nHumberlea, Emery                                                                                                                          1\nHumewood-Cedarvale                                                                                                                        1\nIndia Bazaar, The Beaches West                                                                                                            1\nIslington Avenue, Humber Valley Village                                                                                                   1\nKennedy Park, Ionview, East Birchmount Park                                                                                               1\nKensington Market, Chinatown, Grange Park                                                                                                 1\nKingsview Village, St. Phillips, Martin Grove Gardens, Richview Gardens                                                                   1\nLawrence Manor, Lawrence Heights                                                                                                          1\nLawrence Park                                                                                                                             1\nLeaside                                                                                                                                   1\nLittle Portugal, Trinity                                                                                                                  1\nMalvern, Rouge                                                                                                                            1\nMilliken, Agincourt North, Steeles East, L'Amoreaux East                                                                                  1\nMimico NW, The Queensway West, South of Bloor, Kingsway Park South West, Royal York South West                                            1\nMoore Park, Summerhill East                                                                                                               1\nNew Toronto, Mimico South, Humber Bay Shores                                                                                              1\nNorth Park, Maple Leaf Park, Upwood Park                                                                                                  1\nNorth Toronto West, Lawrence Park                                                                                                         1\nNorthwest, West Humber - Clairville                                                                                                       1\nNorthwood Park, York University                                                                                                           1\nOld Mill South, King's Mill Park, Sunnylea, Humber Bay, Mimico NE, The Queensway East, Royal York South East, Kingsway Park South East    1\nParkdale, Roncesvalles                                                                                                                    1\nParkview Hill, Woodbine Gardens                                                                                                           1\nParkwoods                                                                                                                                 1\nQueen's Park, Ontario Provincial Government                                                                                               1\nRegent Park, Harbourfront                                                                                                                 1\nRichmond, Adelaide, King                                                                                                                  1\nRosedale                                                                                                                                  1\nRoselawn                                                                                                                                  1\nRouge Hill, Port Union, Highland Creek                                                                                                    1\nRunnymede, Swansea                                                                                                                        1\nRunnymede, The Junction North                                                                                                             1\nScarborough Village                                                                                                                       1\nSouth Steeles, Silverstone, Humbergate, Jamestown, Mount Olive, Beaumond Heights, Thistletown, Albion Gardens                             1\nSt. James Town                                                                                                                            1\nSt. James Town, Cabbagetown                                                                                                               1\nSteeles West, L'Amoreaux West                                                                                                             1\nStn A PO Boxes                                                                                                                            1\nStudio District                                                                                                                           1\nSummerhill West, Rathnelly, South Hill, Forest Hill SE, Deer Park                                                                         1\nThe Annex, North Midtown, Yorkville                                                                                                       1\nThe Beaches                                                                                                                               1\nThe Danforth West, Riverdale                                                                                                              1\nThe Kingsway, Montgomery Road, Old Mill North                                                                                             1\nThorncliffe Park                                                                                                                          1\nToronto Dominion Centre, Design Exchange                                                                                                  1\nUniversity of Toronto, Harbord                                                                                                            1\nUpper Rouge                                                                                                                               1\nVictoria Village                                                                                                                          1\nWest Deane Park, Princess Gardens, Martin Grove, Islington, Cloverdale                                                                    1\nWestmount                                                                                                                                 1\nWeston                                                                                                                                    1\nWexford, Maryvale                                                                                                                         1\nWillowdale, Newtonbrook                                                                                                                   1\nWillowdale, Willowdale East                                                                                                               1\nWillowdale, Willowdale West                                                                                                               1\nWoburn                                                                                                                                    1\nWoodbine Heights                                                                                                                          1\nYork Mills West                                                                                                                           1\nYork Mills, Silver Hills                                                                                                                  1\nName: Neighbourhood, dtype: int64"
                    },
                    "execution_count": 23,
                    "metadata": {},
                    "output_type": "execute_result"
                }
            ],
            "source": "# Assign Borough to 'Not assigned' Neighbourhood\nneighbourhood_df = borough_df\nneighbourhood_df.Neighbourhood = np.where((borough_df.Neighbourhood == 'Not assigned'),'Borough',borough_df.Neighbourhood)\nneighbourhood_df.Neighbourhood.groupby(neighbourhood_df.Neighbourhood).count()"
        },
        {
            "cell_type": "code",
            "execution_count": 24,
            "metadata": {},
            "outputs": [
                {
                    "data": {
                        "text/plain": "Postal Code\nM1B    1\nM1C    1\nM1E    1\nM1G    1\nM1H    1\nM1J    1\nM1K    1\nM1L    1\nM1M    1\nM1N    1\nM1P    1\nM1R    1\nM1S    1\nM1T    1\nM1V    1\nM1W    1\nM1X    1\nM2H    1\nM2J    1\nM2K    1\nM2L    1\nM2M    1\nM2N    1\nM2P    1\nM2R    1\nM3A    1\nM3B    1\nM3C    1\nM3H    1\nM3J    1\nM3K    1\nM3L    1\nM3M    1\nM3N    1\nM4A    1\nM4B    1\nM4C    1\nM4E    1\nM4G    1\nM4H    1\nM4J    1\nM4K    1\nM4L    1\nM4M    1\nM4N    1\nM4P    1\nM4R    1\nM4S    1\nM4T    1\nM4V    1\nM4W    1\nM4X    1\nM4Y    1\nM5A    1\nM5B    1\nM5C    1\nM5E    1\nM5G    1\nM5H    1\nM5J    1\nM5K    1\nM5L    1\nM5M    1\nM5N    1\nM5P    1\nM5R    1\nM5S    1\nM5T    1\nM5V    1\nM5W    1\nM5X    1\nM6A    1\nM6B    1\nM6C    1\nM6E    1\nM6G    1\nM6H    1\nM6J    1\nM6K    1\nM6L    1\nM6M    1\nM6N    1\nM6P    1\nM6R    1\nM6S    1\nM7A    1\nM7R    1\nM7Y    1\nM8V    1\nM8W    1\nM8X    1\nM8Y    1\nM8Z    1\nM9A    1\nM9B    1\nM9C    1\nM9L    1\nM9M    1\nM9N    1\nM9P    1\nM9R    1\nM9V    1\nM9W    1\nName: Postal Code, dtype: int64"
                    },
                    "execution_count": 24,
                    "metadata": {},
                    "output_type": "execute_result"
                }
            ],
            "source": "#df.ID.groupby([df.domain.str.strip(\"'\")]).nunique()\nneighbourhood_df['Postal Code'].groupby([neighbourhood_df['Postal Code']]).count()"
        },
        {
            "cell_type": "code",
            "execution_count": null,
            "metadata": {},
            "outputs": [],
            "source": ""
        }
    ],
    "metadata": {
        "kernelspec": {
            "display_name": "Python 3.7",
            "language": "python",
            "name": "python3"
        },
        "language_info": {
            "codemirror_mode": {
                "name": "ipython",
                "version": 3
            },
            "file_extension": ".py",
            "mimetype": "text/x-python",
            "name": "python",
            "nbconvert_exporter": "python",
            "pygments_lexer": "ipython3",
            "version": "3.7.9"
        }
    },
    "nbformat": 4,
    "nbformat_minor": 1
}