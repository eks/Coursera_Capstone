{
    "cells": [
        {
            "cell_type": "markdown",
            "metadata": {
                "collapsed": true
            },
            "source": "# Segmenting and Clustering Neighborhoods in Toronto"
        },
        {
            "cell_type": "markdown",
            "metadata": {},
            "source": "### Importing all necessary libs"
        },
        {
            "cell_type": "code",
            "execution_count": 1,
            "metadata": {},
            "outputs": [
                {
                    "name": "stdout",
                    "output_type": "stream",
                    "text": "Requirement already satisfied: geopy in /opt/conda/envs/Python-3.7-main/lib/python3.7/site-packages (2.0.0)\nRequirement already satisfied: geographiclib<2,>=1.49 in /opt/conda/envs/Python-3.7-main/lib/python3.7/site-packages (from geopy) (1.50)\nRequirement already satisfied: folium in /opt/conda/envs/Python-3.7-main/lib/python3.7/site-packages (0.12.1)\nRequirement already satisfied: requests in /opt/conda/envs/Python-3.7-main/lib/python3.7/site-packages (from folium) (2.24.0)\nRequirement already satisfied: numpy in /opt/conda/envs/Python-3.7-main/lib/python3.7/site-packages (from folium) (1.18.5)\nRequirement already satisfied: branca>=0.3.0 in /opt/conda/envs/Python-3.7-main/lib/python3.7/site-packages (from folium) (0.4.2)\nRequirement already satisfied: jinja2>=2.9 in /opt/conda/envs/Python-3.7-main/lib/python3.7/site-packages (from folium) (2.11.2)\nRequirement already satisfied: certifi>=2017.4.17 in /opt/conda/envs/Python-3.7-main/lib/python3.7/site-packages (from requests->folium) (2020.12.5)\nRequirement already satisfied: chardet<4,>=3.0.2 in /opt/conda/envs/Python-3.7-main/lib/python3.7/site-packages (from requests->folium) (3.0.4)\nRequirement already satisfied: idna<3,>=2.5 in /opt/conda/envs/Python-3.7-main/lib/python3.7/site-packages (from requests->folium) (2.9)\nRequirement already satisfied: urllib3!=1.25.0,!=1.25.1,<1.26,>=1.21.1 in /opt/conda/envs/Python-3.7-main/lib/python3.7/site-packages (from requests->folium) (1.25.9)\nRequirement already satisfied: MarkupSafe>=0.23 in /opt/conda/envs/Python-3.7-main/lib/python3.7/site-packages (from jinja2>=2.9->folium) (1.1.1)\nRequirement already satisfied: lxml in /opt/conda/envs/Python-3.7-main/lib/python3.7/site-packages (4.5.1)\nRequirement already satisfied: html5lib in /opt/conda/envs/Python-3.7-main/lib/python3.7/site-packages (1.1)\nRequirement already satisfied: beautifulsoup4 in /opt/conda/envs/Python-3.7-main/lib/python3.7/site-packages (4.9.1)\nRequirement already satisfied: webencodings in /opt/conda/envs/Python-3.7-main/lib/python3.7/site-packages (from html5lib) (0.5.1)\nRequirement already satisfied: six>=1.9 in /opt/conda/envs/Python-3.7-main/lib/python3.7/site-packages (from html5lib) (1.15.0)\nRequirement already satisfied: soupsieve>1.2 in /opt/conda/envs/Python-3.7-main/lib/python3.7/site-packages (from beautifulsoup4) (2.0.1)\n"
                }
            ],
            "source": "import numpy as np\nimport pandas as pd\npd.set_option('display.max_columns', None)\npd.set_option('display.max_rows', None)\n\nimport json\n\n!pip install geopy\nfrom geopy.geocoders import Nominatim\n\nimport requests\nfrom pandas.io.json import json_normalize\n\nimport matplotlib.cm as cm\nimport matplotlib.colors as colors\n\nfrom sklearn.cluster import KMeans\n\n!pip install folium\nimport folium\n\n!pip install lxml html5lib beautifulsoup4"
        },
        {
            "cell_type": "markdown",
            "metadata": {},
            "source": "## Part1"
        },
        {
            "cell_type": "code",
            "execution_count": 48,
            "metadata": {},
            "outputs": [
                {
                    "name": "stdout",
                    "output_type": "stream",
                    "text": "This DataFrame contains 3 tables\nTable 1\n  Postal Code       Borough Neighbourhood\n0         M1A  Not assigned  Not assigned\n======================================\nTable 2\n    0                      1    2    3    4    5    6    7    8    9    10  \\\n0  NaN  Canadian postal codes  NaN  NaN  NaN  NaN  NaN  NaN  NaN  NaN  NaN   \n\n    11   12   13   14   15   16   17  \n0  NaN  NaN  NaN  NaN  NaN  NaN  NaN  \n======================================\nTable 3\n   0   1   2   3   4   5   6   7   8   9   10  11  12  13  14  15     16  17\n0  NL  NS  PE  NB  QC  QC  QC  ON  ON  ON  ON  ON  MB  SK  AB  BC  NU/NT  YT\n======================================\n"
                }
            ],
            "source": "# Fetch HTML data and assign to DataFrame\nurl = 'https://en.wikipedia.org/wiki/List_of_postal_codes_of_Canada:_M'\ntables_list = pd.read_html(url)\n\n# Investigate what was retrived from url\nx='This DataFrame contains {} tables'.format(len(tables_list))\nprint(x)\n\nfor i in range(len(tables_list)):\n    print(\"Table {}\".format(i + 1))\n    print(tables_list[i].head(1))\n    print(\"======================================\")"
        },
        {
            "cell_type": "markdown",
            "metadata": {},
            "source": "As we can see the url have 3 tables and the table we are interested in is the first one\n\nAssign a DataFrame with the object of interest"
        },
        {
            "cell_type": "code",
            "execution_count": 46,
            "metadata": {},
            "outputs": [
                {
                    "data": {
                        "text/plain": "Borough\nCentral Toronto      9\nDowntown Toronto    19\nEast Toronto         5\nEast York            5\nEtobicoke           12\nMississauga          1\nNorth York          24\nNot assigned        77\nScarborough         17\nWest Toronto         6\nYork                 5\nName: Borough, dtype: int64"
                    },
                    "execution_count": 46,
                    "metadata": {},
                    "output_type": "execute_result"
                }
            ],
            "source": "raw_df = tables_list[0]\nraw_df.head()\nraw_df.Borough.groupby(raw_df.Borough).count()"
        },
        {
            "cell_type": "markdown",
            "metadata": {},
            "source": "Cleaning the data"
        },
        {
            "cell_type": "code",
            "execution_count": 32,
            "metadata": {},
            "outputs": [
                {
                    "data": {
                        "text/html": "<div>\n<style scoped>\n    .dataframe tbody tr th:only-of-type {\n        vertical-align: middle;\n    }\n\n    .dataframe tbody tr th {\n        vertical-align: top;\n    }\n\n    .dataframe thead th {\n        text-align: right;\n    }\n</style>\n<table border=\"1\" class=\"dataframe\">\n  <thead>\n    <tr style=\"text-align: right;\">\n      <th></th>\n      <th>Postal Code</th>\n      <th>Borough</th>\n      <th>Neighbourhood</th>\n    </tr>\n  </thead>\n  <tbody>\n    <tr>\n      <th>0</th>\n      <td>M3A</td>\n      <td>North York</td>\n      <td>Parkwoods</td>\n    </tr>\n    <tr>\n      <th>1</th>\n      <td>M4A</td>\n      <td>North York</td>\n      <td>Victoria Village</td>\n    </tr>\n    <tr>\n      <th>2</th>\n      <td>M5A</td>\n      <td>Downtown Toronto</td>\n      <td>Regent Park, Harbourfront</td>\n    </tr>\n    <tr>\n      <th>3</th>\n      <td>M6A</td>\n      <td>North York</td>\n      <td>Lawrence Manor, Lawrence Heights</td>\n    </tr>\n    <tr>\n      <th>4</th>\n      <td>M7A</td>\n      <td>Downtown Toronto</td>\n      <td>Queen's Park, Ontario Provincial Government</td>\n    </tr>\n  </tbody>\n</table>\n</div>",
                        "text/plain": "  Postal Code           Borough                                Neighbourhood\n0         M3A        North York                                    Parkwoods\n1         M4A        North York                             Victoria Village\n2         M5A  Downtown Toronto                    Regent Park, Harbourfront\n3         M6A        North York             Lawrence Manor, Lawrence Heights\n4         M7A  Downtown Toronto  Queen's Park, Ontario Provincial Government"
                    },
                    "execution_count": 32,
                    "metadata": {},
                    "output_type": "execute_result"
                }
            ],
            "source": "borough_df = raw_df[raw_df.Borough != 'Not assigned'].reset_index(drop=True)\nborough_df.head()"
        },
        {
            "cell_type": "markdown",
            "metadata": {},
            "source": "Certify there are no 'Not assigned' in Borough column"
        },
        {
            "cell_type": "code",
            "execution_count": 33,
            "metadata": {},
            "outputs": [
                {
                    "data": {
                        "text/plain": "Borough\nCentral Toronto      9\nDowntown Toronto    19\nEast Toronto         5\nEast York            5\nEtobicoke           12\nMississauga          1\nNorth York          24\nScarborough         17\nWest Toronto         6\nYork                 5\nName: Borough, dtype: int64"
                    },
                    "execution_count": 33,
                    "metadata": {},
                    "output_type": "execute_result"
                }
            ],
            "source": "borough_df.Borough.groupby(borough_df.Borough).count()"
        },
        {
            "cell_type": "markdown",
            "metadata": {},
            "source": "Assign Borough to 'Not assigned' Neighbourhood"
        },
        {
            "cell_type": "code",
            "execution_count": 42,
            "metadata": {},
            "outputs": [],
            "source": "neighbourhood_df = borough_df\nneighbourhood_df.Neighbourhood = np.where((borough_df.Neighbourhood == 'Not assigned'), 'Borough', borough_df.Neighbourhood)\n#neighbourhood_df.Neighbourhood.groupby(neighbourhood_df.Neighbourhood).count()"
        },
        {
            "cell_type": "markdown",
            "metadata": {},
            "source": " \n \n Verify uniqueness of 'Postal Code'"
        },
        {
            "cell_type": "code",
            "execution_count": 43,
            "metadata": {
                "scrolled": true
            },
            "outputs": [
                {
                    "data": {
                        "text/plain": "Postal Code\nM1B    1\nM1C    1\nM1E    1\nM1G    1\nM1H    1\nM1J    1\nM1K    1\nM1L    1\nM1M    1\nM1N    1\nM1P    1\nM1R    1\nM1S    1\nM1T    1\nM1V    1\nM1W    1\nM1X    1\nM2H    1\nM2J    1\nM2K    1\nM2L    1\nM2M    1\nM2N    1\nM2P    1\nM2R    1\nM3A    1\nM3B    1\nM3C    1\nM3H    1\nM3J    1\nM3K    1\nM3L    1\nM3M    1\nM3N    1\nM4A    1\nM4B    1\nM4C    1\nM4E    1\nM4G    1\nM4H    1\nM4J    1\nM4K    1\nM4L    1\nM4M    1\nM4N    1\nM4P    1\nM4R    1\nM4S    1\nM4T    1\nM4V    1\nM4W    1\nM4X    1\nM4Y    1\nM5A    1\nM5B    1\nM5C    1\nM5E    1\nM5G    1\nM5H    1\nM5J    1\nM5K    1\nM5L    1\nM5M    1\nM5N    1\nM5P    1\nM5R    1\nM5S    1\nM5T    1\nM5V    1\nM5W    1\nM5X    1\nM6A    1\nM6B    1\nM6C    1\nM6E    1\nM6G    1\nM6H    1\nM6J    1\nM6K    1\nM6L    1\nM6M    1\nM6N    1\nM6P    1\nM6R    1\nM6S    1\nM7A    1\nM7R    1\nM7Y    1\nM8V    1\nM8W    1\nM8X    1\nM8Y    1\nM8Z    1\nM9A    1\nM9B    1\nM9C    1\nM9L    1\nM9M    1\nM9N    1\nM9P    1\nM9R    1\nM9V    1\nM9W    1\nName: Postal Code, dtype: int64"
                    },
                    "execution_count": 43,
                    "metadata": {},
                    "output_type": "execute_result"
                }
            ],
            "source": "neighbourhood_df['Postal Code'].groupby([neighbourhood_df['Postal Code']]).count()"
        },
        {
            "cell_type": "code",
            "execution_count": 44,
            "metadata": {},
            "outputs": [
                {
                    "data": {
                        "text/plain": "(103, 3)"
                    },
                    "execution_count": 44,
                    "metadata": {},
                    "output_type": "execute_result"
                }
            ],
            "source": "neighbourhood_df.shape"
        },
        {
            "cell_type": "code",
            "execution_count": null,
            "metadata": {},
            "outputs": [],
            "source": ""
        }
    ],
    "metadata": {
        "kernelspec": {
            "display_name": "Python 3.7",
            "language": "python",
            "name": "python3"
        },
        "language_info": {
            "codemirror_mode": {
                "name": "ipython",
                "version": 3
            },
            "file_extension": ".py",
            "mimetype": "text/x-python",
            "name": "python",
            "nbconvert_exporter": "python",
            "pygments_lexer": "ipython3",
            "version": "3.7.9"
        }
    },
    "nbformat": 4,
    "nbformat_minor": 1
}