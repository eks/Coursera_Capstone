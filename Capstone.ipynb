{
    "cells": [
        {
            "cell_type": "markdown",
            "metadata": {},
            "source": "## Capstone"
        },
        {
            "cell_type": "markdown",
            "metadata": {},
            "source": "This is the final assignment for the **Course/IBM Data Science Professional Certificate**"
        },
        {
            "cell_type": "markdown",
            "metadata": {},
            "source": "Given a city, will segment it into different neighborhoods using the geographical coordinates of the center of each neighborhood.\n\nThen, using a combination of location data and Machine Learning, will group the neighborhoods into clusters to find wich neighborhood is a good fit to my expectations.\n\nIt requires to leverage location data to solve the problem or to get deeper insights into a neighborhood's reputation, so I can make a good decision."
        },
        {
            "cell_type": "code",
            "execution_count": 1,
            "metadata": {},
            "outputs": [],
            "source": "import pandas as pd\nimport numpy as np"
        },
        {
            "cell_type": "code",
            "execution_count": 2,
            "metadata": {},
            "outputs": [
                {
                    "name": "stdout",
                    "output_type": "stream",
                    "text": "Hello Capstone Project Course!\n"
                }
            ],
            "source": "print(\"Hello Capstone Project Course!\")"
        },
        {
            "cell_type": "code",
            "execution_count": null,
            "metadata": {},
            "outputs": [],
            "source": ""
        }
    ],
    "metadata": {
        "kernelspec": {
            "display_name": "Python 3.7",
            "language": "python",
            "name": "python3"
        },
        "language_info": {
            "codemirror_mode": {
                "name": "ipython",
                "version": 3
            },
            "file_extension": ".py",
            "mimetype": "text/x-python",
            "name": "python",
            "nbconvert_exporter": "python",
            "pygments_lexer": "ipython3",
            "version": "3.7.9"
        }
    },
    "nbformat": 4,
    "nbformat_minor": 1
}